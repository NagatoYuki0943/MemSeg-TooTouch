{
 "cells": [
  {
   "cell_type": "markdown",
   "metadata": {},
   "source": [
    "# Model Select"
   ]
  },
  {
   "cell_type": "code",
   "execution_count": 1,
   "metadata": {},
   "outputs": [],
   "source": [
    "from data import create_dataset\n",
    "\n",
    "import os\n",
    "import torch\n",
    "import yaml\n",
    "from timm import create_model\n",
    "from models import MemSeg\n",
    "\n",
    "import ipywidgets as widgets\n",
    "from IPython.display import display, clear_output\n",
    "import matplotlib.pyplot as plt"
   ]
  },
  {
   "cell_type": "code",
   "execution_count": 2,
   "metadata": {},
   "outputs": [
    {
     "data": {
      "text/plain": [
       "{'EXP_NAME': 'MemSeg',\n",
       " 'SEED': 42,\n",
       " 'DATASET': {'datadir': './datasets/MVTec',\n",
       "  'texture_source_dir': './datasets/dtd/images',\n",
       "  'target': 'bottle',\n",
       "  'resize': (256, 256),\n",
       "  'structure_grid_size': 8,\n",
       "  'transparency_range': [0.15, 1.0],\n",
       "  'perlin_scale': 6,\n",
       "  'min_perlin_scale': 0,\n",
       "  'perlin_noise_threshold': 0.5},\n",
       " 'DATALOADER': {'batch_size': 8, 'num_workers': 0},\n",
       " 'MEMORYBANK': {'nb_memory_sample': 30},\n",
       " 'MODEL': {'feature_extractor_name': 'resnet18'},\n",
       " 'TRAIN': {'batch_size': 8,\n",
       "  'num_training_steps': 5000,\n",
       "  'l1_weight': 0.6,\n",
       "  'focal_weight': 0.4,\n",
       "  'focal_alpha': None,\n",
       "  'focal_gamma': 4,\n",
       "  'use_wandb': False},\n",
       " 'OPTIMIZER': {'lr': 0.003, 'weight_decay': 0.0005},\n",
       " 'SCHEDULER': {'min_lr': 0.0001, 'warmup_ratio': 0.1, 'use_scheduler': True},\n",
       " 'LOG': {'log_interval': 1, 'eval_interval': 100},\n",
       " 'RESULT': {'savedir': './saved_model'}}"
      ]
     },
     "execution_count": 2,
     "metadata": {},
     "output_type": "execute_result"
    }
   ],
   "source": [
    "cfg = yaml.load(open('./configs/bottle.yaml','r'), Loader=yaml.FullLoader)\n",
    "cfg"
   ]
  },
  {
   "cell_type": "code",
   "execution_count": 3,
   "metadata": {
    "scrolled": true
   },
   "outputs": [],
   "source": [
    "# ====================================\n",
    "# Select Model\n",
    "# ====================================\n",
    "def load_model(model_name):\n",
    "    global model\n",
    "    global testset\n",
    "\n",
    "    testset = create_dataset(\n",
    "        datadir                = cfg['DATASET']['datadir'],\n",
    "        target                 = model_name.split('-')[1],\n",
    "        train                  = False,\n",
    "        resize                 = cfg['DATASET']['resize'],\n",
    "        texture_source_dir     = cfg['DATASET']['texture_source_dir'],\n",
    "        structure_grid_size    = cfg['DATASET']['structure_grid_size'],\n",
    "        transparency_range     = cfg['DATASET']['transparency_range'],\n",
    "        perlin_scale           = cfg['DATASET']['perlin_scale'],\n",
    "        min_perlin_scale       = cfg['DATASET']['min_perlin_scale'],\n",
    "        perlin_noise_threshold = cfg['DATASET']['perlin_noise_threshold']\n",
    "    )\n",
    "\n",
    "    memory_bank = torch.load(f'./saved_model/{model_name}/memory_bank.pt')\n",
    "    memory_bank.device = 'cpu'\n",
    "    for k in memory_bank.memory_information.keys():\n",
    "        memory_bank.memory_information[k] = memory_bank.memory_information[k].cpu()\n",
    "\n",
    "    feature_extractor = create_model(\n",
    "        cfg['MODEL']['feature_extractor_name'],\n",
    "        pretrained    = True,\n",
    "        features_only = True\n",
    "    )\n",
    "    model = MemSeg(\n",
    "        memory_bank       = memory_bank,\n",
    "        feature_extractor = feature_extractor\n",
    "    )\n",
    "\n",
    "    model.load_state_dict(torch.load(f'./saved_model/{model_name}/best_model.pt'))"
   ]
  },
  {
   "cell_type": "code",
   "execution_count": 4,
   "metadata": {},
   "outputs": [],
   "source": [
    "# ====================================\n",
    "# Visualization\n",
    "# ====================================\n",
    "def result_plot(idx):\n",
    "    input_i, mask_i, target_i = testset[idx]\n",
    "\n",
    "    output_i = model(input_i.unsqueeze(0)).detach()\n",
    "    output_i = torch.nn.functional.softmax(output_i, dim=1)\n",
    "\n",
    "    def minmax_scaling(img):\n",
    "        return (((img - img.min()) / (img.max() - img.min())) * 255).to(torch.uint8)\n",
    "\n",
    "    fig, ax = plt.subplots(1,4, figsize=(15,10))\n",
    "\n",
    "    ax[0].imshow(minmax_scaling(input_i.permute(1,2,0)))\n",
    "    ax[0].set_title('Input: {}'.format('Normal' if target_i == 0 else 'Abnormal'))\n",
    "    ax[1].imshow(mask_i, cmap='gray')\n",
    "    ax[1].set_title('Ground Truth')\n",
    "    ax[2].imshow(output_i[0][1], cmap='gray')\n",
    "    ax[2].set_title('Predicted Mask')\n",
    "    ax[3].imshow(minmax_scaling(input_i.permute(1,2,0)), alpha=1)\n",
    "    ax[3].imshow(output_i[0][1], cmap='gray', alpha=0.5)\n",
    "    ax[3].set_title(f'Input X Predicted Mask')\n",
    "\n",
    "    plt.show()"
   ]
  },
  {
   "cell_type": "code",
   "execution_count": 5,
   "metadata": {},
   "outputs": [
    {
     "data": {
      "application/vnd.jupyter.widget-view+json": {
       "model_id": "f9123c3bacb949609095dfd2ec37090d",
       "version_major": 2,
       "version_minor": 0
      },
      "text/plain": [
       "HBox(children=(Dropdown(description='Model:', options=('MemSeg-bottle', 'MemSeg-custom-256'), value='MemSeg-bo…"
      ]
     },
     "metadata": {},
     "output_type": "display_data"
    },
    {
     "data": {
      "application/vnd.jupyter.widget-view+json": {
       "model_id": "1982a2c5a1314b1aa1d64dd32221ab69",
       "version_major": 2,
       "version_minor": 0
      },
      "text/plain": [
       "Output()"
      ]
     },
     "metadata": {},
     "output_type": "display_data"
    },
    {
     "name": "stderr",
     "output_type": "stream",
     "text": [
      "No such comm: 9c58511231af48709aedd2fc87f668f3\n",
      "No such comm: 2c1891d8eaf0460da183f406e0b71f98\n",
      "No such comm: 2c1891d8eaf0460da183f406e0b71f98\n"
     ]
    }
   ],
   "source": [
    "# ====================================\n",
    "# widgets\n",
    "# ====================================\n",
    "model_list = widgets.Dropdown(\n",
    "    options=os.listdir('./saved_model'),\n",
    "    value='MemSeg-bottle',\n",
    "    description='Model:',\n",
    "    disabled=False,\n",
    ")\n",
    "button = widgets.Button(description=\"Model Change\")\n",
    "output = widgets.Output()\n",
    "\n",
    "\n",
    "@output.capture()\n",
    "def on_button_clicked(b):\n",
    "    clear_output(wait=True)\n",
    "    load_model(model_name=model_list.value)\n",
    "\n",
    "    # vizualization\n",
    "    file_list = widgets.Dropdown(\n",
    "        options=[(file_path, i) for i, file_path in enumerate(testset.file_list)],\n",
    "        value=0,\n",
    "        description='image:',\n",
    "    )\n",
    "\n",
    "    widgets.interact(result_plot, idx=file_list)\n",
    "\n",
    "button.on_click(on_button_clicked)\n",
    "\n",
    "display(widgets.HBox([model_list, button]), output)"
   ]
  }
 ],
 "metadata": {
  "kernelspec": {
   "display_name": "Python 3.9.13 ('anomalib')",
   "language": "python",
   "name": "python3"
  },
  "language_info": {
   "codemirror_mode": {
    "name": "ipython",
    "version": 3
   },
   "file_extension": ".py",
   "mimetype": "text/x-python",
   "name": "python",
   "nbconvert_exporter": "python",
   "pygments_lexer": "ipython3",
   "version": "3.9.13"
  },
  "vscode": {
   "interpreter": {
    "hash": "bb2329d59a1df4f18564fdc9c709dd80b4685857d732609acaa8cec65e9804c3"
   }
  }
 },
 "nbformat": 4,
 "nbformat_minor": 4
}
